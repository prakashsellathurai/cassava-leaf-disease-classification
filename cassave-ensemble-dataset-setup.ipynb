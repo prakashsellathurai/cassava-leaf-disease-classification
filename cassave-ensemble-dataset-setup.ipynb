{
 "cells": [
  {
   "cell_type": "code",
   "execution_count": 1,
   "metadata": {},
   "outputs": [
    {
     "name": "stdout",
     "output_type": "stream",
     "text": [
      "Collecting kaggle\n",
      "  Downloading kaggle-1.5.10.tar.gz (59 kB)\n",
      "\u001b[K     |████████████████████████████████| 59 kB 1.3 MB/s  eta 0:00:01\n",
      "\u001b[?25hCollecting certifi\n",
      "  Downloading certifi-2020.12.5-py2.py3-none-any.whl (147 kB)\n",
      "\u001b[K     |████████████████████████████████| 147 kB 32.1 MB/s eta 0:00:01\n",
      "\u001b[?25hCollecting python-dateutil\n",
      "  Downloading python_dateutil-2.8.1-py2.py3-none-any.whl (227 kB)\n",
      "\u001b[K     |████████████████████████████████| 227 kB 35.8 MB/s eta 0:00:01\n",
      "\u001b[?25hCollecting python-slugify\n",
      "  Downloading python-slugify-4.0.1.tar.gz (11 kB)\n",
      "Collecting requests\n",
      "  Downloading requests-2.25.1-py2.py3-none-any.whl (61 kB)\n",
      "\u001b[K     |████████████████████████████████| 61 kB 738 kB/s  eta 0:00:01\n",
      "\u001b[?25hCollecting chardet<5,>=3.0.2\n",
      "  Downloading chardet-4.0.0-py2.py3-none-any.whl (178 kB)\n",
      "\u001b[K     |████████████████████████████████| 178 kB 68.8 MB/s eta 0:00:01\n",
      "\u001b[?25hCollecting idna<3,>=2.5\n",
      "  Using cached idna-2.10-py2.py3-none-any.whl (58 kB)\n",
      "Collecting six>=1.10\n",
      "  Downloading six-1.15.0-py2.py3-none-any.whl (10 kB)\n",
      "Collecting text-unidecode>=1.3\n",
      "  Downloading text_unidecode-1.3-py2.py3-none-any.whl (78 kB)\n",
      "\u001b[K     |████████████████████████████████| 78 kB 10.0 MB/s eta 0:00:01\n",
      "\u001b[?25hCollecting tqdm\n",
      "  Downloading tqdm-4.55.0-py2.py3-none-any.whl (68 kB)\n",
      "\u001b[K     |████████████████████████████████| 68 kB 563 kB/s  eta 0:00:01\n",
      "\u001b[?25hCollecting urllib3\n",
      "  Using cached urllib3-1.26.2-py2.py3-none-any.whl (136 kB)\n",
      "Building wheels for collected packages: kaggle, python-slugify\n",
      "  Building wheel for kaggle (setup.py) ... \u001b[?25ldone\n",
      "\u001b[?25h  Created wheel for kaggle: filename=kaggle-1.5.10-py3-none-any.whl size=73269 sha256=e241360d86eef1131864c778bb6e63287e29af9c1abc827bb1022fa684f2f843\n",
      "  Stored in directory: /home/ec2-user/.cache/pip/wheels/1c/dd/dd/c493e6f981182c1411e288c553310f76e212bac3afbdac1294\n",
      "  Building wheel for python-slugify (setup.py) ... \u001b[?25ldone\n",
      "\u001b[?25h  Created wheel for python-slugify: filename=python_slugify-4.0.1-py2.py3-none-any.whl size=6767 sha256=fccfbc86f3a86ac01745415129842fd779c7ed002fd64e7bb48cc12f01f6b1ed\n",
      "  Stored in directory: /home/ec2-user/.cache/pip/wheels/72/e6/db/122611605e60148f54ee2abaca98b2bbeafc6e22486a867bad\n",
      "Successfully built kaggle python-slugify\n",
      "Installing collected packages: urllib3, text-unidecode, six, idna, chardet, certifi, tqdm, requests, python-slugify, python-dateutil, kaggle\n",
      "  Attempting uninstall: urllib3\n",
      "    Found existing installation: urllib3 1.25.11\n",
      "    Uninstalling urllib3-1.25.11:\n",
      "      Successfully uninstalled urllib3-1.25.11\n",
      "  Attempting uninstall: six\n",
      "    Found existing installation: six 1.15.0\n",
      "    Uninstalling six-1.15.0:\n",
      "      Successfully uninstalled six-1.15.0\n",
      "  Attempting uninstall: idna\n",
      "    Found existing installation: idna 2.10\n",
      "    Uninstalling idna-2.10:\n",
      "      Successfully uninstalled idna-2.10\n",
      "  Attempting uninstall: chardet\n",
      "    Found existing installation: chardet 3.0.4\n",
      "    Uninstalling chardet-3.0.4:\n",
      "      Successfully uninstalled chardet-3.0.4\n",
      "  Attempting uninstall: certifi\n",
      "    Found existing installation: certifi 2020.11.8\n",
      "    Uninstalling certifi-2020.11.8:\n",
      "      Successfully uninstalled certifi-2020.11.8\n",
      "  Attempting uninstall: tqdm\n",
      "    Found existing installation: tqdm 4.42.1\n",
      "    Uninstalling tqdm-4.42.1:\n",
      "      Successfully uninstalled tqdm-4.42.1\n",
      "  Attempting uninstall: requests\n",
      "    Found existing installation: requests 2.25.0\n",
      "    Uninstalling requests-2.25.0:\n",
      "      Successfully uninstalled requests-2.25.0\n",
      "  Attempting uninstall: python-dateutil\n",
      "    Found existing installation: python-dateutil 2.8.1\n",
      "    Uninstalling python-dateutil-2.8.1:\n",
      "      Successfully uninstalled python-dateutil-2.8.1\n",
      "\u001b[31mERROR: pip's dependency resolver does not currently take into account all the packages that are installed. This behaviour is the source of the following dependency conflicts.\n",
      "spyder 4.0.1 requires pyqt5<5.13; python_version >= \"3\", which is not installed.\n",
      "spyder 4.0.1 requires pyqtwebengine<5.13; python_version >= \"3\", which is not installed.\n",
      "pytest-astropy 0.8.0 requires pytest-cov>=2.0, which is not installed.\n",
      "pytest-astropy 0.8.0 requires pytest-filter-subpackage>=0.1, which is not installed.\u001b[0m\n",
      "Successfully installed certifi-2020.12.5 chardet-4.0.0 idna-2.10 kaggle-1.5.10 python-dateutil-2.8.1 python-slugify-4.0.1 requests-2.25.1 six-1.15.0 text-unidecode-1.3 tqdm-4.55.0 urllib3-1.26.2\n",
      "\u001b[33mWARNING: You are using pip version 20.3; however, version 20.3.3 is available.\n",
      "You should consider upgrading via the '/home/ec2-user/anaconda3/envs/tensorflow2_p36/bin/python -m pip install --upgrade pip' command.\u001b[0m\n"
     ]
    }
   ],
   "source": [
    "!pip install --upgrade --force-reinstall kaggle"
   ]
  },
  {
   "cell_type": "code",
   "execution_count": 3,
   "metadata": {},
   "outputs": [],
   "source": [
    "!rm -rf ~/.kaggle"
   ]
  },
  {
   "cell_type": "code",
   "execution_count": 4,
   "metadata": {},
   "outputs": [],
   "source": [
    "! mkdir ~/.kaggle"
   ]
  },
  {
   "cell_type": "code",
   "execution_count": 5,
   "metadata": {},
   "outputs": [],
   "source": [
    "!echo '{\"username\":\"codenamekash\",\"key\":\"8209e28232ec8c6457d49e8c7422f1fd\"}' > kaggle.json"
   ]
  },
  {
   "cell_type": "code",
   "execution_count": 6,
   "metadata": {},
   "outputs": [],
   "source": [
    "! cp kaggle.json ~/.kaggle/"
   ]
  },
  {
   "cell_type": "code",
   "execution_count": 7,
   "metadata": {},
   "outputs": [],
   "source": [
    "! chmod 600 ~/.kaggle/kaggle.json"
   ]
  },
  {
   "cell_type": "code",
   "execution_count": null,
   "metadata": {},
   "outputs": [],
   "source": [
    "!rm -rf cassava-leaf-disease-classification/input"
   ]
  },
  {
   "cell_type": "code",
   "execution_count": 9,
   "metadata": {},
   "outputs": [],
   "source": [
    "!mkdir cassava-leaf-disease-classification/download"
   ]
  },
  {
   "cell_type": "code",
   "execution_count": 17,
   "metadata": {},
   "outputs": [],
   "source": [
    "!mkdir cassava-leaf-disease-classification/input"
   ]
  },
  {
   "cell_type": "markdown",
   "metadata": {},
   "source": [
    "# Cassava Dataset"
   ]
  },
  {
   "cell_type": "code",
   "execution_count": 10,
   "metadata": {},
   "outputs": [
    {
     "name": "stdout",
     "output_type": "stream",
     "text": [
      "Downloading cassava-leaf-disease-classification.zip to cassava-leaf-disease-classification/download\n",
      "100%|█████████████████████████████████████▉| 5.75G/5.76G [03:17<00:00, 18.2MB/s]\n",
      "100%|██████████████████████████████████████| 5.76G/5.76G [03:17<00:00, 31.3MB/s]\n"
     ]
    }
   ],
   "source": [
    "! kaggle competitions download -c 'cassava-leaf-disease-classification' -p 'cassava-leaf-disease-classification/download' \n"
   ]
  },
  {
   "cell_type": "code",
   "execution_count": 18,
   "metadata": {},
   "outputs": [],
   "source": [
    "!unzip -q cassava-leaf-disease-classification/download/cassava-leaf-disease-classification.zip -d 'cassava-leaf-disease-classification/input/cassava-leaf-disease-classification/' "
   ]
  },
  {
   "cell_type": "code",
   "execution_count": 19,
   "metadata": {},
   "outputs": [],
   "source": [
    "!rm cassava-leaf-disease-classification/download/cassava-leaf-disease-classification.zip"
   ]
  },
  {
   "cell_type": "markdown",
   "metadata": {},
   "source": [
    "# efficient Net"
   ]
  },
  {
   "cell_type": "code",
   "execution_count": 20,
   "metadata": {},
   "outputs": [
    {
     "name": "stdout",
     "output_type": "stream",
     "text": [
      "Downloading efficientnet.zip to cassava-leaf-disease-classification/download\n",
      "  0%|                                                | 0.00/769k [00:00<?, ?B/s]\n",
      "100%|████████████████████████████████████████| 769k/769k [00:00<00:00, 47.2MB/s]\n"
     ]
    }
   ],
   "source": [
    "!kaggle datasets download -d 'codenamekash/efficientnet' -p 'cassava-leaf-disease-classification/download'&& unzip -qq cassava-leaf-disease-classification/download/efficientnet.zip -d cassava-leaf-disease-classification/input/efficientnet && rm cassava-leaf-disease-classification/download/efficientnet.zip\n"
   ]
  },
  {
   "cell_type": "markdown",
   "metadata": {},
   "source": [
    "# keras applications"
   ]
  },
  {
   "cell_type": "code",
   "execution_count": 21,
   "metadata": {},
   "outputs": [
    {
     "name": "stdout",
     "output_type": "stream",
     "text": [
      "Downloading kerasapplications.zip to cassava-leaf-disease-classification/download\n",
      "  0%|                                                | 0.00/316k [00:00<?, ?B/s]\n",
      "100%|████████████████████████████████████████| 316k/316k [00:00<00:00, 30.6MB/s]\n"
     ]
    }
   ],
   "source": [
    "\n",
    "!kaggle datasets download -d 'codenamekash/kerasapplications' -p 'cassava-leaf-disease-classification/download'&& unzip -qq cassava-leaf-disease-classification/download/kerasapplications.zip -d cassava-leaf-disease-classification/input/kerasapplications && rm cassava-leaf-disease-classification/download/kerasapplications.zip"
   ]
  },
  {
   "cell_type": "markdown",
   "metadata": {},
   "source": [
    "# cassava-leaf-disease-efficient-and-dense-net"
   ]
  },
  {
   "cell_type": "code",
   "execution_count": 22,
   "metadata": {},
   "outputs": [
    {
     "name": "stdout",
     "output_type": "stream",
     "text": [
      "Downloading cassava-leaf-disease-efficient-and-dense-net.zip to cassava-leaf-disease-classification/download\n",
      " 99%|███████████████████████████████████████▍| 848M/859M [00:48<00:00, 16.3MB/s]\n",
      "100%|████████████████████████████████████████| 859M/859M [00:48<00:00, 18.6MB/s]\n"
     ]
    }
   ],
   "source": [
    "!kaggle datasets download -d 'codenamekash/cassava-leaf-disease-efficient-and-dense-net' -p 'cassava-leaf-disease-classification/download' && unzip -qq cassava-leaf-disease-classification/download/cassava-leaf-disease-efficient-and-dense-net.zip -d cassava-leaf-disease-classification/input/cassava-leaf-disease-efficient-and-dense-net && rm cassava-leaf-disease-classification/download/cassava-leaf-disease-efficient-and-dense-net.zip\n"
   ]
  },
  {
   "cell_type": "markdown",
   "metadata": {},
   "source": [
    "# cassava-leaf-disease-resnet50-model"
   ]
  },
  {
   "cell_type": "code",
   "execution_count": 23,
   "metadata": {},
   "outputs": [
    {
     "name": "stdout",
     "output_type": "stream",
     "text": [
      "Downloading cassava-leaf-disease-resnet50-model.zip to cassava-leaf-disease-classification/download\n",
      " 98%|███████████████████████████████████████▏| 409M/418M [00:29<00:00, 20.8MB/s]\n",
      "100%|████████████████████████████████████████| 418M/418M [00:29<00:00, 15.1MB/s]\n"
     ]
    }
   ],
   "source": [
    "\n",
    "!kaggle datasets download -d 'codenamekash/cassava-leaf-disease-resnet50-model' -p 'cassava-leaf-disease-classification/download'&& unzip -qq cassava-leaf-disease-classification/download/cassava-leaf-disease-resnet50-model.zip -d cassava-leaf-disease-classification/input/cassava-leaf-disease-resnet50-model && rm cassava-leaf-disease-classification/download/cassava-leaf-disease-resnet50-model.zip"
   ]
  },
  {
   "cell_type": "markdown",
   "metadata": {},
   "source": [
    "# cassava-leaf-disease-resnet101-model"
   ]
  },
  {
   "cell_type": "code",
   "execution_count": 24,
   "metadata": {},
   "outputs": [
    {
     "name": "stdout",
     "output_type": "stream",
     "text": [
      "Downloading cassava-leaf-disease-resnet101-model.zip to cassava-leaf-disease-classification/download\n",
      " 99%|███████████████████████████████████████▍| 745M/756M [00:35<00:00, 21.7MB/s]\n",
      "100%|████████████████████████████████████████| 756M/756M [00:35<00:00, 22.3MB/s]\n"
     ]
    }
   ],
   "source": [
    "\n",
    "!kaggle datasets download -d 'codenamekash/cassava-leaf-disease-resnet101-model' -p 'cassava-leaf-disease-classification/download'&& unzip -qq cassava-leaf-disease-classification/download/cassava-leaf-disease-resnet101-model.zip -d cassava-leaf-disease-classification/input/cassava-leaf-disease-resnet101-model && rm cassava-leaf-disease-classification/download/cassava-leaf-disease-resnet101-model.zip"
   ]
  },
  {
   "cell_type": "markdown",
   "metadata": {},
   "source": [
    "# cassava-leaf-disease-resnext101-model"
   ]
  },
  {
   "cell_type": "code",
   "execution_count": 25,
   "metadata": {},
   "outputs": [
    {
     "name": "stdout",
     "output_type": "stream",
     "text": [
      "Downloading cassava-leaf-disease-resnext101-model.zip to cassava-leaf-disease-classification/download\n",
      " 99%|███████████████████████████████████████▋| 753M/758M [00:37<00:00, 30.9MB/s]\n",
      "100%|████████████████████████████████████████| 758M/758M [00:37<00:00, 21.3MB/s]\n"
     ]
    }
   ],
   "source": [
    "\n",
    "!kaggle datasets download -d 'codenamekash/cassava-leaf-disease-resnext101-model' -p 'cassava-leaf-disease-classification/download'&& unzip -qq cassava-leaf-disease-classification/download/cassava-leaf-disease-resnext101-model.zip -d cassava-leaf-disease-classification/input/cassava-leaf-disease-resnext101-model && rm cassava-leaf-disease-classification/download/cassava-leaf-disease-resnext101-model.zip"
   ]
  }
 ],
 "metadata": {
  "kernelspec": {
   "display_name": "conda_tensorflow2_p36",
   "language": "python",
   "name": "conda_tensorflow2_p36"
  },
  "language_info": {
   "codemirror_mode": {
    "name": "ipython",
    "version": 3
   },
   "file_extension": ".py",
   "mimetype": "text/x-python",
   "name": "python",
   "nbconvert_exporter": "python",
   "pygments_lexer": "ipython3",
   "version": "3.6.10"
  }
 },
 "nbformat": 4,
 "nbformat_minor": 4
}
