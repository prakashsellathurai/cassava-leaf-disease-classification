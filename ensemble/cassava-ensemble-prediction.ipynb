{
 "cells": [
  {
   "cell_type": "markdown",
   "metadata": {
    "papermill": {
     "duration": 0.018012,
     "end_time": "2020-12-31T19:53:13.752211",
     "exception": false,
     "start_time": "2020-12-31T19:53:13.734199",
     "status": "completed"
    },
    "tags": []
   },
   "source": [
    "# Preprocessing"
   ]
  },
  {
   "cell_type": "code",
   "execution_count": 1,
   "metadata": {
    "_cell_guid": "b1076dfc-b9ad-4769-8c92-a6c4dae69d19",
    "_uuid": "8f2839f25d086af736a60e9eeb907d3b93b6e0e5",
    "execution": {
     "iopub.execute_input": "2020-12-31T19:53:13.803759Z",
     "iopub.status.busy": "2020-12-31T19:53:13.802905Z",
     "iopub.status.idle": "2020-12-31T19:53:25.886623Z",
     "shell.execute_reply": "2020-12-31T19:53:25.885929Z"
    },
    "papermill": {
     "duration": 12.11705,
     "end_time": "2020-12-31T19:53:25.886765",
     "exception": false,
     "start_time": "2020-12-31T19:53:13.769715",
     "status": "completed"
    },
    "tags": []
   },
   "outputs": [
    {
     "name": "stdout",
     "output_type": "stream",
     "text": [
      "Tensorflow version 2.2.0\n",
      "Device: grpc://10.0.0.2:8470\n",
      "Number of replicas: 8\n"
     ]
    }
   ],
   "source": [
    "import tensorflow as tf\n",
    "import math, re, os, random\n",
    "import numpy as np\n",
    "import pandas as pd\n",
    "import matplotlib.pyplot as plt\n",
    "from kaggle_datasets import KaggleDatasets\n",
    "from tensorflow import keras\n",
    "from functools import partial\n",
    "from sklearn.model_selection import train_test_split\n",
    "import tensorflow.keras.backend as K\n",
    "from sklearn.model_selection import KFold\n",
    "from scipy import stats\n",
    "\n",
    "\n",
    "from kaggle_datasets import KaggleDatasets\n",
    "from sklearn.metrics import f1_score, precision_score, recall_score, confusion_matrix\n",
    "\n",
    "print(\"Tensorflow version \" + tf.__version__)\n",
    "\n",
    "try:\n",
    "    tpu = tf.distribute.cluster_resolver.TPUClusterResolver()\n",
    "    print('Device:', tpu.master())\n",
    "    tf.config.experimental_connect_to_cluster(tpu)\n",
    "    tf.tpu.experimental.initialize_tpu_system(tpu)\n",
    "    strategy = tf.distribute.experimental.TPUStrategy(tpu)\n",
    "except:\n",
    "    strategy = tf.distribute.get_strategy()\n",
    "print('Number of replicas:', strategy.num_replicas_in_sync)\n",
    "\n",
    "AUTOTUNE = tf.data.experimental.AUTOTUNE\n",
    "GCS_PATH =  KaggleDatasets().get_gcs_path('cassava-leaf-disease-classification')\n",
    "BATCH_SIZE = 16 * strategy.num_replicas_in_sync\n",
    "IMAGE_SIZE = [512, 512]\n",
    "CLASSES = ['0', '1', '2', '3', '4']\n",
    "EPOCHS = 25\n",
    "\n",
    "\n",
    "SEED = 752\n",
    "SKIP_VALIDATION = False\n",
    "TTA_NUM = 5\n",
    "\n",
    "random.seed(SEED)\n",
    "np.random.seed(SEED)\n",
    "tf.random.set_seed(SEED)\n"
   ]
  },
  {
   "cell_type": "code",
   "execution_count": 2,
   "metadata": {
    "_cell_guid": "79c7e3d0-c299-4dcb-8224-4455121ee9b0",
    "_uuid": "d629ff2d2480ee46fbb7e2d37f6b5fab8052498a",
    "execution": {
     "iopub.execute_input": "2020-12-31T19:53:25.941488Z",
     "iopub.status.busy": "2020-12-31T19:53:25.940364Z",
     "iopub.status.idle": "2020-12-31T19:53:25.944304Z",
     "shell.execute_reply": "2020-12-31T19:53:25.943685Z"
    },
    "papermill": {
     "duration": 0.039006,
     "end_time": "2020-12-31T19:53:25.944438",
     "exception": false,
     "start_time": "2020-12-31T19:53:25.905432",
     "status": "completed"
    },
    "tags": []
   },
   "outputs": [],
   "source": [
    "def decode_image(image):\n",
    "    image = tf.image.decode_jpeg(image, channels=3)\n",
    "    image = tf.cast(image, tf.float32) / 255.0\n",
    "    image = tf.reshape(image, [*IMAGE_SIZE, 3])\n",
    "    return image\n",
    "\n",
    "def read_tfrecord(example, labeled):\n",
    "    tfrecord_format = {\n",
    "        \"image\": tf.io.FixedLenFeature([], tf.string),\n",
    "        \"target\": tf.io.FixedLenFeature([], tf.int64)\n",
    "    } if labeled else {\n",
    "        \"image\": tf.io.FixedLenFeature([], tf.string),\n",
    "        \"image_name\": tf.io.FixedLenFeature([], tf.string)\n",
    "    }\n",
    "    example = tf.io.parse_single_example(example, tfrecord_format)\n",
    "    image = decode_image(example['image'])\n",
    "    if labeled:\n",
    "        label = tf.cast(example['target'], tf.int32)\n",
    "        return image, label\n",
    "    idnum = example['image_name']\n",
    "    return image, idnum\n",
    "\n",
    "def load_dataset(filenames, labeled=True, ordered=False):\n",
    "    ignore_order = tf.data.Options()\n",
    "    if not ordered:\n",
    "        ignore_order.experimental_deterministic = False # disable order, increase speed\n",
    "    dataset = tf.data.TFRecordDataset(filenames, num_parallel_reads=AUTOTUNE) # automatically interleaves reads from multiple files\n",
    "    dataset = dataset.with_options(ignore_order) # uses data as soon as it streams in, rather than in its original order\n",
    "    dataset = dataset.map(partial(read_tfrecord, labeled=labeled), num_parallel_calls=AUTOTUNE)\n",
    "    return dataset\n",
    "\n"
   ]
  },
  {
   "cell_type": "code",
   "execution_count": 3,
   "metadata": {
    "execution": {
     "iopub.execute_input": "2020-12-31T19:53:26.145723Z",
     "iopub.status.busy": "2020-12-31T19:53:26.074805Z",
     "iopub.status.idle": "2020-12-31T19:53:26.149698Z",
     "shell.execute_reply": "2020-12-31T19:53:26.148515Z"
    },
    "papermill": {
     "duration": 0.187227,
     "end_time": "2020-12-31T19:53:26.149922",
     "exception": false,
     "start_time": "2020-12-31T19:53:25.962695",
     "status": "completed"
    },
    "tags": []
   },
   "outputs": [],
   "source": [
    "TRAINING_FILENAMES, VALID_FILENAMES = train_test_split(\n",
    "    tf.io.gfile.glob(GCS_PATH + '/train_tfrecords/ld_train*.tfrec'),\n",
    "    test_size=0.35, random_state=5\n",
    ")\n",
    "\n",
    "TEST_FILENAMES = tf.io.gfile.glob(GCS_PATH + '/test_tfrecords/ld_test*.tfrec')"
   ]
  },
  {
   "cell_type": "code",
   "execution_count": 4,
   "metadata": {
    "execution": {
     "iopub.execute_input": "2020-12-31T19:53:26.393474Z",
     "iopub.status.busy": "2020-12-31T19:53:26.367701Z",
     "iopub.status.idle": "2020-12-31T19:53:26.397118Z",
     "shell.execute_reply": "2020-12-31T19:53:26.396252Z"
    },
    "papermill": {
     "duration": 0.219757,
     "end_time": "2020-12-31T19:53:26.397258",
     "exception": false,
     "start_time": "2020-12-31T19:53:26.177501",
     "status": "completed"
    },
    "tags": []
   },
   "outputs": [],
   "source": [
    "def random_blockout(img, sl=0.1, sh=0.2, rl=0.4):\n",
    "    p=random.random()\n",
    "    if p>=0.25:\n",
    "        w, h, c = IMAGE_SIZE[0], IMAGE_SIZE[1], 3\n",
    "        origin_area = tf.cast(h*w, tf.float32)\n",
    "\n",
    "        e_size_l = tf.cast(tf.round(tf.sqrt(origin_area * sl * rl)), tf.int32)\n",
    "        e_size_h = tf.cast(tf.round(tf.sqrt(origin_area * sh / rl)), tf.int32)\n",
    "\n",
    "        e_height_h = tf.minimum(e_size_h, h)\n",
    "        e_width_h = tf.minimum(e_size_h, w)\n",
    "\n",
    "        erase_height = tf.random.uniform(shape=[], minval=e_size_l, maxval=e_height_h, dtype=tf.int32)\n",
    "        erase_width = tf.random.uniform(shape=[], minval=e_size_l, maxval=e_width_h, dtype=tf.int32)\n",
    "\n",
    "        erase_area = tf.zeros(shape=[erase_height, erase_width, c])\n",
    "        erase_area = tf.cast(erase_area, tf.uint8)\n",
    "\n",
    "        pad_h = h - erase_height\n",
    "        pad_top = tf.random.uniform(shape=[], minval=0, maxval=pad_h, dtype=tf.int32)\n",
    "        pad_bottom = pad_h - pad_top\n",
    "\n",
    "        pad_w = w - erase_width\n",
    "        pad_left = tf.random.uniform(shape=[], minval=0, maxval=pad_w, dtype=tf.int32)\n",
    "        pad_right = pad_w - pad_left\n",
    "\n",
    "        erase_mask = tf.pad([erase_area], [[0,0],[pad_top, pad_bottom], [pad_left, pad_right], [0,0]], constant_values=1)\n",
    "        erase_mask = tf.squeeze(erase_mask, axis=0)\n",
    "        erased_img = tf.multiply(tf.cast(img,tf.float32), tf.cast(erase_mask, tf.float32))\n",
    "\n",
    "        return tf.cast(erased_img, img.dtype)\n",
    "    else:\n",
    "        return tf.cast(img, img.dtype)\n",
    "\n",
    "\n",
    "\n",
    "\n",
    "def data_augment(image, label):\n",
    "    # Thanks to the dataset.prefetch(AUTO) statement in the following function this happens essentially for free on TPU. \n",
    "    # Data pipeline code is executed on the \"CPU\" part of the TPU while the TPU itself is computing gradients.\n",
    "    image = tf.image.random_flip_left_right(image)\n",
    "    image = random_blockout(image)\n",
    "    return image, label\n",
    "def get_mat(rotation, shear, height_zoom, width_zoom, height_shift, width_shift):\n",
    "    # returns 3x3 transformmatrix which transforms indicies\n",
    "        \n",
    "    # CONVERT DEGREES TO RADIANS\n",
    "    rotation = math.pi * rotation / 180.\n",
    "    shear = math.pi * shear / 180.\n",
    "    \n",
    "    # ROTATION MATRIX\n",
    "    c1 = tf.math.cos(rotation)\n",
    "    s1 = tf.math.sin(rotation)\n",
    "    one = tf.constant([1],dtype='float32')\n",
    "    zero = tf.constant([0],dtype='float32')\n",
    "    rotation_matrix = tf.reshape( tf.concat([c1,s1,zero, -s1,c1,zero, zero,zero,one],axis=0),[3,3] )\n",
    "        \n",
    "    # SHEAR MATRIX\n",
    "    c2 = tf.math.cos(shear)\n",
    "    s2 = tf.math.sin(shear)\n",
    "    shear_matrix = tf.reshape( tf.concat([one,s2,zero, zero,c2,zero, zero,zero,one],axis=0),[3,3] )    \n",
    "    \n",
    "    # ZOOM MATRIX\n",
    "    zoom_matrix = tf.reshape( tf.concat([one/height_zoom,zero,zero, zero,one/width_zoom,zero, zero,zero,one],axis=0),[3,3] )\n",
    "    \n",
    "    # SHIFT MATRIX\n",
    "    shift_matrix = tf.reshape( tf.concat([one,zero,height_shift, zero,one,width_shift, zero,zero,one],axis=0),[3,3] )\n",
    "    \n",
    "    return K.dot(K.dot(rotation_matrix, shear_matrix), K.dot(zoom_matrix, shift_matrix))\n",
    "def transform(image,label):\n",
    "    # input image - is one image of size [dim,dim,3] not a batch of [b,dim,dim,3]\n",
    "    # output - image randomly rotated, sheared, zoomed, and shifted\n",
    "    DIM = IMAGE_SIZE[0]\n",
    "    XDIM = DIM%2 #fix for size 331\n",
    "    \n",
    "    rot = 15. * tf.random.normal([1],dtype='float32')\n",
    "    shr = 5. * tf.random.normal([1],dtype='float32') \n",
    "    h_zoom = 1.0 + tf.random.normal([1],dtype='float32')/10.\n",
    "    w_zoom = 1.0 + tf.random.normal([1],dtype='float32')/10.\n",
    "    h_shift = 16. * tf.random.normal([1],dtype='float32') \n",
    "    w_shift = 16. * tf.random.normal([1],dtype='float32') \n",
    "  \n",
    "    # GET TRANSFORMATION MATRIX\n",
    "    m = get_mat(rot,shr,h_zoom,w_zoom,h_shift,w_shift) \n",
    "\n",
    "    # LIST DESTINATION PIXEL INDICES\n",
    "    x = tf.repeat( tf.range(DIM//2,-DIM//2,-1), DIM )\n",
    "    y = tf.tile( tf.range(-DIM//2,DIM//2),[DIM] )\n",
    "    z = tf.ones([DIM*DIM],dtype='int32')\n",
    "    idx = tf.stack( [x,y,z] )\n",
    "    \n",
    "    # ROTATE DESTINATION PIXELS ONTO ORIGIN PIXELS\n",
    "    idx2 = K.dot(m,tf.cast(idx,dtype='float32'))\n",
    "    idx2 = K.cast(idx2,dtype='int32')\n",
    "    idx2 = K.clip(idx2,-DIM//2+XDIM+1,DIM//2)\n",
    "    \n",
    "    # FIND ORIGIN PIXEL VALUES           \n",
    "    idx3 = tf.stack( [DIM//2-idx2[0,], DIM//2-1+idx2[1,]] )\n",
    "    d = tf.gather_nd(image,tf.transpose(idx3))\n",
    "        \n",
    "    return tf.reshape(d,[DIM,DIM,3]),label\n"
   ]
  },
  {
   "cell_type": "code",
   "execution_count": 5,
   "metadata": {
    "execution": {
     "iopub.execute_input": "2020-12-31T19:53:26.454504Z",
     "iopub.status.busy": "2020-12-31T19:53:26.451686Z",
     "iopub.status.idle": "2020-12-31T19:53:26.458838Z",
     "shell.execute_reply": "2020-12-31T19:53:26.458171Z"
    },
    "papermill": {
     "duration": 0.041803,
     "end_time": "2020-12-31T19:53:26.458966",
     "exception": false,
     "start_time": "2020-12-31T19:53:26.417163",
     "status": "completed"
    },
    "tags": []
   },
   "outputs": [
    {
     "name": "stdout",
     "output_type": "stream",
     "text": [
      "Dataset: 13380 training images, 8017 validation images, 1 (unlabeled) test images\n"
     ]
    }
   ],
   "source": [
    "def get_training_dataset(TRAINING_FILENAMES):\n",
    "    dataset = load_dataset(TRAINING_FILENAMES, labeled=True)  \n",
    "    dataset = dataset.map(data_augment, num_parallel_calls=AUTOTUNE)  \n",
    "    dataset = dataset.map(transform, num_parallel_calls=AUTOTUNE)\n",
    "    dataset = dataset.repeat()\n",
    "    dataset = dataset.shuffle(2048)\n",
    "    dataset = dataset.batch(BATCH_SIZE)\n",
    "    dataset = dataset.prefetch(AUTOTUNE)\n",
    "    return dataset\n",
    "def get_validation_dataset(VALID_FILENAMES,ordered=False):\n",
    "    dataset = load_dataset(VALID_FILENAMES, labeled=True, ordered=ordered) \n",
    "    dataset = dataset.batch(BATCH_SIZE)\n",
    "    dataset = dataset.cache()\n",
    "    dataset = dataset.prefetch(AUTOTUNE)\n",
    "    return dataset\n",
    "def get_test_dataset(TEST_FILENAMES,ordered=False):\n",
    "    dataset = load_dataset(TEST_FILENAMES, labeled=False, ordered=ordered)\n",
    "    dataset = dataset.batch(BATCH_SIZE)\n",
    "    dataset = dataset.prefetch(AUTOTUNE)\n",
    "    return dataset\n",
    "def count_data_items(filenames):\n",
    "    n = [int(re.compile(r\"-([0-9]*)\\.\").search(filename).group(1)) for filename in filenames]\n",
    "    return np.sum(n)\n",
    "NUM_TRAINING_IMAGES = count_data_items(TRAINING_FILENAMES)\n",
    "NUM_VALIDATION_IMAGES = count_data_items(VALID_FILENAMES)\n",
    "NUM_TEST_IMAGES = count_data_items(TEST_FILENAMES)\n",
    "\n",
    "print('Dataset: {} training images, {} validation images, {} (unlabeled) test images'.format(\n",
    "    NUM_TRAINING_IMAGES, NUM_VALIDATION_IMAGES, NUM_TEST_IMAGES))\n"
   ]
  },
  {
   "cell_type": "markdown",
   "metadata": {
    "papermill": {
     "duration": 0.019473,
     "end_time": "2020-12-31T19:53:26.497440",
     "exception": false,
     "start_time": "2020-12-31T19:53:26.477967",
     "status": "completed"
    },
    "tags": []
   },
   "source": [
    "# Load Dataset"
   ]
  },
  {
   "cell_type": "code",
   "execution_count": 6,
   "metadata": {
    "execution": {
     "iopub.execute_input": "2020-12-31T19:53:26.543006Z",
     "iopub.status.busy": "2020-12-31T19:53:26.542021Z",
     "iopub.status.idle": "2020-12-31T19:53:27.796730Z",
     "shell.execute_reply": "2020-12-31T19:53:27.797355Z"
    },
    "papermill": {
     "duration": 1.280862,
     "end_time": "2020-12-31T19:53:27.797546",
     "exception": false,
     "start_time": "2020-12-31T19:53:26.516684",
     "status": "completed"
    },
    "tags": []
   },
   "outputs": [],
   "source": [
    "import tensorflow_datasets as tfds\n",
    "\n",
    "val_dataset = get_validation_dataset(VALID_FILENAMES,ordered=True)\n",
    "\n",
    "label_map = val_dataset.map(lambda images, label:label)\n",
    "images_map = val_dataset.map(lambda images, label:images)"
   ]
  },
  {
   "cell_type": "code",
   "execution_count": 7,
   "metadata": {
    "execution": {
     "iopub.execute_input": "2020-12-31T19:53:27.845719Z",
     "iopub.status.busy": "2020-12-31T19:53:27.843607Z",
     "iopub.status.idle": "2020-12-31T19:54:01.444974Z",
     "shell.execute_reply": "2020-12-31T19:54:01.443993Z"
    },
    "papermill": {
     "duration": 33.628181,
     "end_time": "2020-12-31T19:54:01.445167",
     "exception": false,
     "start_time": "2020-12-31T19:53:27.816986",
     "status": "completed"
    },
    "tags": []
   },
   "outputs": [],
   "source": [
    "true_labels = pd.DataFrame(np.array([label for label in label_map.unbatch()]),columns=['true_labels'])\n",
    "true_labels.to_csv('true_labels.csv',index=False)"
   ]
  },
  {
   "cell_type": "markdown",
   "metadata": {
    "papermill": {
     "duration": 0.020655,
     "end_time": "2020-12-31T19:54:01.493245",
     "exception": false,
     "start_time": "2020-12-31T19:54:01.472590",
     "status": "completed"
    },
    "tags": []
   },
   "source": [
    "# Load All Models"
   ]
  },
  {
   "cell_type": "code",
   "execution_count": 8,
   "metadata": {
    "execution": {
     "iopub.execute_input": "2020-12-31T19:54:01.541193Z",
     "iopub.status.busy": "2020-12-31T19:54:01.540314Z",
     "iopub.status.idle": "2020-12-31T19:54:01.543524Z",
     "shell.execute_reply": "2020-12-31T19:54:01.542868Z"
    },
    "papermill": {
     "duration": 0.03065,
     "end_time": "2020-12-31T19:54:01.543653",
     "exception": false,
     "start_time": "2020-12-31T19:54:01.513003",
     "status": "completed"
    },
    "tags": []
   },
   "outputs": [],
   "source": [
    "import sys\n",
    "package_path = '../input/efficientnet/'\n",
    "sys.path.append(package_path)\n",
    "\n",
    "package_path = '../input/kerasapplications'\n",
    "sys.path.append(package_path)"
   ]
  },
  {
   "cell_type": "code",
   "execution_count": 9,
   "metadata": {
    "execution": {
     "iopub.execute_input": "2020-12-31T19:54:01.592102Z",
     "iopub.status.busy": "2020-12-31T19:54:01.591230Z",
     "iopub.status.idle": "2020-12-31T19:57:50.307737Z",
     "shell.execute_reply": "2020-12-31T19:57:50.306871Z"
    },
    "papermill": {
     "duration": 228.744063,
     "end_time": "2020-12-31T19:57:50.307910",
     "exception": false,
     "start_time": "2020-12-31T19:54:01.563847",
     "status": "completed"
    },
    "tags": []
   },
   "outputs": [],
   "source": [
    "import efficientnet.tfkeras\n",
    "\n",
    "with strategy.scope():\n",
    "    \n",
    "    efficientnet_model = tf.keras.models.load_model('../input/cassava-leaf-disease-training/effcient_net.h5')\n",
    "    efficient_net_predictions = efficientnet_model.predict(images_map)\n",
    "    efficient_net_predictions_df = pd.DataFrame(np.argmax(efficient_net_predictions,axis=-1),columns=['efficient_net_predictions'])\n",
    "    efficient_net_predictions_df.to_csv('efficient_net_predictions.csv',index=False)"
   ]
  },
  {
   "cell_type": "code",
   "execution_count": 10,
   "metadata": {
    "execution": {
     "iopub.execute_input": "2020-12-31T19:57:50.356375Z",
     "iopub.status.busy": "2020-12-31T19:57:50.355542Z",
     "iopub.status.idle": "2020-12-31T20:01:04.275463Z",
     "shell.execute_reply": "2020-12-31T20:01:04.274613Z"
    },
    "papermill": {
     "duration": 193.947759,
     "end_time": "2020-12-31T20:01:04.275613",
     "exception": false,
     "start_time": "2020-12-31T19:57:50.327854",
     "status": "completed"
    },
    "tags": []
   },
   "outputs": [],
   "source": [
    "with strategy.scope():   \n",
    "    densenet_model = tf.keras.models.load_model('../input/cassava-leaf-disease-training/dense_net.h5')\n",
    "    dense_net_predictions = densenet_model.predict(images_map)\n",
    "    dense_net_predictions_df = pd.DataFrame(np.argmax(dense_net_predictions,axis=-1),columns=['dense_net_predictions'])\n",
    "    dense_net_predictions_df.to_csv('dense_net_predictions.csv',index=False)"
   ]
  },
  {
   "cell_type": "code",
   "execution_count": 11,
   "metadata": {
    "execution": {
     "iopub.execute_input": "2020-12-31T20:01:04.326526Z",
     "iopub.status.busy": "2020-12-31T20:01:04.325667Z",
     "iopub.status.idle": "2020-12-31T20:05:04.498979Z",
     "shell.execute_reply": "2020-12-31T20:05:04.498016Z"
    },
    "papermill": {
     "duration": 240.203005,
     "end_time": "2020-12-31T20:05:04.499139",
     "exception": false,
     "start_time": "2020-12-31T20:01:04.296134",
     "status": "completed"
    },
    "tags": []
   },
   "outputs": [],
   "source": [
    "with strategy.scope(): \n",
    "    resnet50_models = [tf.keras.models.load_model(f'../input/cassava-leaf-disease-resnet50/resnet50/fold-{i}.h5') for i in range(5)]\n",
    "    \n",
    "    resnet_50_models_predictions = np.array( [resnet50_model.predict(images_map) for resnet50_model in resnet50_models])\n",
    "    resnet_50_models_predictions=[np.argmax(predictions,axis=-1) for predictions in resnet_50_models_predictions]\n",
    "    resnet_50_models_predictions = stats.mode(resnet_50_models_predictions,axis=0)[0][0]\n",
    "    \n",
    "    resnet_50_models_predictions_df = pd.DataFrame(resnet_50_models_predictions,columns=['resnet_50_models_predictions'])\n",
    "    resnet_50_models_predictions_df.to_csv('resnet_50_models_predictions.csv',index=False)"
   ]
  },
  {
   "cell_type": "code",
   "execution_count": 12,
   "metadata": {
    "execution": {
     "iopub.execute_input": "2020-12-31T20:05:04.552931Z",
     "iopub.status.busy": "2020-12-31T20:05:04.551794Z",
     "iopub.status.idle": "2020-12-31T20:12:16.193251Z",
     "shell.execute_reply": "2020-12-31T20:12:16.192438Z"
    },
    "papermill": {
     "duration": 431.673976,
     "end_time": "2020-12-31T20:12:16.193408",
     "exception": false,
     "start_time": "2020-12-31T20:05:04.519432",
     "status": "completed"
    },
    "tags": []
   },
   "outputs": [],
   "source": [
    "with strategy.scope():\n",
    "    resnet101_models = [tf.keras.models.load_model(f'../input/cassava-leaf-disease-resnet101/resnet101/fold-{i}.h5') for i in range(5)]\n",
    "    \n",
    "    resnet101_models_predictions = np.array( [resnet101_model.predict(images_map) for resnet101_model in resnet101_models])\n",
    "    resnet101_models_predictions=[np.argmax(predictions,axis=-1) for predictions in resnet101_models_predictions]\n",
    "    resnet101_models_predictions = stats.mode(resnet101_models_predictions,axis=0)[0][0]\n",
    "    \n",
    "    resnet101_models_predictions_df = pd.DataFrame(resnet101_models_predictions,columns=['resnet101_models_predictions'])\n",
    "    resnet101_models_predictions_df.to_csv('resnet101_models_predictions.csv',index=False)"
   ]
  },
  {
   "cell_type": "code",
   "execution_count": 13,
   "metadata": {
    "execution": {
     "iopub.execute_input": "2020-12-31T20:12:16.248071Z",
     "iopub.status.busy": "2020-12-31T20:12:16.247294Z",
     "iopub.status.idle": "2020-12-31T20:19:46.799586Z",
     "shell.execute_reply": "2020-12-31T20:19:46.798552Z"
    },
    "papermill": {
     "duration": 450.584112,
     "end_time": "2020-12-31T20:19:46.799782",
     "exception": false,
     "start_time": "2020-12-31T20:12:16.215670",
     "status": "completed"
    },
    "tags": []
   },
   "outputs": [],
   "source": [
    "with strategy.scope():\n",
    "    resnext101_models = [tf.keras.models.load_model(f'../input/cassava-leaf-disease-resnext101/resnext101/fold-{i}.h5') for i in range(5)]\n",
    " \n",
    "    resnext101_models_predictions = np.array( [resnext101_model.predict(images_map) for resnext101_model in resnext101_models])\n",
    "    resnext101_models_predictions=[np.argmax(predictions,axis=-1) for predictions in resnext101_models_predictions]\n",
    "    resnext101_models_predictions = stats.mode(resnext101_models_predictions,axis=0)[0][0]\n",
    "    \n",
    "    resnext101_models_predictions_df = pd.DataFrame(resnext101_models_predictions,columns=['resnext101_models_predictions'])\n",
    "    resnext101_models_predictions_df.to_csv('resnext101_models_predictions.csv',index=False)"
   ]
  },
  {
   "cell_type": "markdown",
   "metadata": {
    "papermill": {
     "duration": 0.020776,
     "end_time": "2020-12-31T20:19:46.845423",
     "exception": false,
     "start_time": "2020-12-31T20:19:46.824647",
     "status": "completed"
    },
    "tags": []
   },
   "source": [
    "# Prediction"
   ]
  },
  {
   "cell_type": "code",
   "execution_count": 14,
   "metadata": {
    "execution": {
     "iopub.execute_input": "2020-12-31T20:19:46.893588Z",
     "iopub.status.busy": "2020-12-31T20:19:46.892448Z",
     "iopub.status.idle": "2020-12-31T20:19:46.896084Z",
     "shell.execute_reply": "2020-12-31T20:19:46.895405Z"
    },
    "papermill": {
     "duration": 0.029723,
     "end_time": "2020-12-31T20:19:46.896214",
     "exception": false,
     "start_time": "2020-12-31T20:19:46.866491",
     "status": "completed"
    },
    "tags": []
   },
   "outputs": [],
   "source": [
    "# test_ds = get_test_dataset(TEST_FILENAMES)\n",
    "# test_images_ds = test_ds.map(lambda image, idnum: image)"
   ]
  },
  {
   "cell_type": "code",
   "execution_count": 15,
   "metadata": {
    "execution": {
     "iopub.execute_input": "2020-12-31T20:19:46.947202Z",
     "iopub.status.busy": "2020-12-31T20:19:46.946078Z",
     "iopub.status.idle": "2020-12-31T20:19:46.948208Z",
     "shell.execute_reply": "2020-12-31T20:19:46.949043Z"
    },
    "papermill": {
     "duration": 0.031657,
     "end_time": "2020-12-31T20:19:46.949275",
     "exception": false,
     "start_time": "2020-12-31T20:19:46.917618",
     "status": "completed"
    },
    "tags": []
   },
   "outputs": [],
   "source": [
    "# print('Calculating predictions...')\n",
    "# # ensemble_predictions = \n",
    "# predictions = np.argmax(ensemble_predictions, axis=-1)"
   ]
  },
  {
   "cell_type": "markdown",
   "metadata": {
    "papermill": {
     "duration": 0.021802,
     "end_time": "2020-12-31T20:19:46.992896",
     "exception": false,
     "start_time": "2020-12-31T20:19:46.971094",
     "status": "completed"
    },
    "tags": []
   },
   "source": [
    "# Submission"
   ]
  },
  {
   "cell_type": "code",
   "execution_count": 16,
   "metadata": {
    "execution": {
     "iopub.execute_input": "2020-12-31T20:19:47.043310Z",
     "iopub.status.busy": "2020-12-31T20:19:47.042408Z",
     "iopub.status.idle": "2020-12-31T20:19:47.046294Z",
     "shell.execute_reply": "2020-12-31T20:19:47.045560Z"
    },
    "papermill": {
     "duration": 0.030084,
     "end_time": "2020-12-31T20:19:47.046458",
     "exception": false,
     "start_time": "2020-12-31T20:19:47.016374",
     "status": "completed"
    },
    "tags": []
   },
   "outputs": [],
   "source": [
    "# print('Generating submission file...')\n",
    "# test_ids_ds = test_ds.map(lambda image, idnum: idnum).unbatch()\n",
    "# test_ids = next(iter(test_ids_ds.batch(NUM_TEST_IMAGES))).numpy().astype('U') # all in one batch\n",
    "# np.savetxt('submission.csv', np.rec.fromarrays([test_ids, predictions]), fmt=['%s', '%d'], delimiter=',', header='image_id,label', comments='')\n"
   ]
  },
  {
   "cell_type": "code",
   "execution_count": 17,
   "metadata": {
    "execution": {
     "iopub.execute_input": "2020-12-31T20:19:47.096223Z",
     "iopub.status.busy": "2020-12-31T20:19:47.095175Z",
     "iopub.status.idle": "2020-12-31T20:19:47.098504Z",
     "shell.execute_reply": "2020-12-31T20:19:47.097676Z"
    },
    "papermill": {
     "duration": 0.029583,
     "end_time": "2020-12-31T20:19:47.098634",
     "exception": false,
     "start_time": "2020-12-31T20:19:47.069051",
     "status": "completed"
    },
    "tags": []
   },
   "outputs": [],
   "source": [
    "# !head submission.csv"
   ]
  }
 ],
 "metadata": {
  "kernelspec": {
   "display_name": "Python 3",
   "language": "python",
   "name": "python3"
  },
  "language_info": {
   "codemirror_mode": {
    "name": "ipython",
    "version": 3
   },
   "file_extension": ".py",
   "mimetype": "text/x-python",
   "name": "python",
   "nbconvert_exporter": "python",
   "pygments_lexer": "ipython3",
   "version": "3.7.6"
  },
  "papermill": {
   "duration": 1599.30466,
   "end_time": "2020-12-31T20:19:47.532593",
   "environment_variables": {},
   "exception": null,
   "input_path": "__notebook__.ipynb",
   "output_path": "__notebook__.ipynb",
   "parameters": {},
   "start_time": "2020-12-31T19:53:08.227933",
   "version": "2.1.0"
  }
 },
 "nbformat": 4,
 "nbformat_minor": 4
}
